{
 "cells": [
  {
   "cell_type": "code",
   "execution_count": 15,
   "id": "b6afe7c9-83de-4a7d-bbe9-36bcf5835038",
   "metadata": {
    "tags": []
   },
   "outputs": [
    {
     "data": {
      "text/plain": [
       "'/home/ratnakar/mobilenet3'"
      ]
     },
     "execution_count": 15,
     "metadata": {},
     "output_type": "execute_result"
    }
   ],
   "source": [
    "pwd"
   ]
  },
  {
   "cell_type": "code",
   "execution_count": 17,
   "id": "e401f49c-54d3-4a59-ae73-493f3f3a44d8",
   "metadata": {
    "tags": []
   },
   "outputs": [],
   "source": [
    "pipeline_file = 'file.config'"
   ]
  },
  {
   "cell_type": "code",
   "execution_count": 18,
   "id": "40b6ed24-d061-41d0-8586-09c389fd5f8b",
   "metadata": {
    "tags": []
   },
   "outputs": [],
   "source": [
    "output_directory = '/home/ratnakar/mobilenet3/finetune15k'"
   ]
  },
  {
   "cell_type": "code",
   "execution_count": 8,
   "id": "77a977a8-b981-4b85-b61d-6e442485b9e1",
   "metadata": {
    "tags": []
   },
   "outputs": [],
   "source": [
    "last_model_checkpoint = \"/home/ratnakar/mobilenet3/15k/model.ckpt-15113\""
   ]
  },
  {
   "cell_type": "code",
   "execution_count": 9,
   "id": "b9074cb4-1789-44c1-8fac-6f5d1d54b1fd",
   "metadata": {},
   "outputs": [
    {
     "name": "stderr",
     "output_type": "stream",
     "text": [
      "Using TensorFlow backend.\n",
      "WARNING:tensorflow:From /home/ratnakar/anaconda3/envs/mbnet/lib/python3.7/site-packages/tf_slim/layers/layers.py:1089: Layer.apply (from tensorflow.python.keras.engine.base_layer) is deprecated and will be removed in a future version.\n",
      "Instructions for updating:\n",
      "Please use `layer.__call__` method instead.\n",
      "W0523 12:31:53.609294 130739157230656 deprecation.py:323] From /home/ratnakar/anaconda3/envs/mbnet/lib/python3.7/site-packages/tf_slim/layers/layers.py:1089: Layer.apply (from tensorflow.python.keras.engine.base_layer) is deprecated and will be removed in a future version.\n",
      "Instructions for updating:\n",
      "Please use `layer.__call__` method instead.\n",
      "I0523 12:31:55.147528 130739157230656 ssd_meta_arch.py:584] feature_map_spatial_dims: [(19, 19), (10, 10), (5, 5), (3, 3), (2, 2), (1, 1)]\n",
      "INFO:tensorflow:depth of additional conv before box predictor: 0\n",
      "I0523 12:31:55.764035 130739157230656 convolutional_box_predictor.py:155] depth of additional conv before box predictor: 0\n",
      "INFO:tensorflow:depth of additional conv before box predictor: 0\n",
      "I0523 12:31:55.850288 130739157230656 convolutional_box_predictor.py:155] depth of additional conv before box predictor: 0\n",
      "INFO:tensorflow:depth of additional conv before box predictor: 0\n",
      "I0523 12:31:55.914702 130739157230656 convolutional_box_predictor.py:155] depth of additional conv before box predictor: 0\n",
      "INFO:tensorflow:depth of additional conv before box predictor: 0\n",
      "I0523 12:31:55.962690 130739157230656 convolutional_box_predictor.py:155] depth of additional conv before box predictor: 0\n",
      "INFO:tensorflow:depth of additional conv before box predictor: 0\n",
      "I0523 12:31:56.013895 130739157230656 convolutional_box_predictor.py:155] depth of additional conv before box predictor: 0\n",
      "INFO:tensorflow:depth of additional conv before box predictor: 0\n",
      "I0523 12:31:56.062982 130739157230656 convolutional_box_predictor.py:155] depth of additional conv before box predictor: 0\n",
      "2024-05-23 12:31:56.127348: I tensorflow/stream_executor/platform/default/dso_loader.cc:44] Successfully opened dynamic library libcuda.so.1\n",
      "2024-05-23 12:31:56.139072: I tensorflow/stream_executor/cuda/cuda_gpu_executor.cc:983] successful NUMA node read from SysFS had negative value (-1), but there must be at least one NUMA node, so returning NUMA node zero\n",
      "2024-05-23 12:31:56.139267: I tensorflow/core/common_runtime/gpu/gpu_device.cc:1618] Found device 0 with properties: \n",
      "name: NVIDIA GeForce GTX 1650 major: 7 minor: 5 memoryClockRate(GHz): 1.515\n",
      "pciBusID: 0000:01:00.0\n",
      "2024-05-23 12:31:56.139481: W tensorflow/stream_executor/platform/default/dso_loader.cc:55] Could not load dynamic library 'libcudart.so.10.0'; dlerror: libcudart.so.10.0: cannot open shared object file: No such file or directory\n",
      "2024-05-23 12:31:56.139597: W tensorflow/stream_executor/platform/default/dso_loader.cc:55] Could not load dynamic library 'libcublas.so.10.0'; dlerror: libcublas.so.10.0: cannot open shared object file: No such file or directory\n",
      "2024-05-23 12:31:56.139698: W tensorflow/stream_executor/platform/default/dso_loader.cc:55] Could not load dynamic library 'libcufft.so.10.0'; dlerror: libcufft.so.10.0: cannot open shared object file: No such file or directory\n",
      "2024-05-23 12:31:56.139801: W tensorflow/stream_executor/platform/default/dso_loader.cc:55] Could not load dynamic library 'libcurand.so.10.0'; dlerror: libcurand.so.10.0: cannot open shared object file: No such file or directory\n",
      "2024-05-23 12:31:56.139891: W tensorflow/stream_executor/platform/default/dso_loader.cc:55] Could not load dynamic library 'libcusolver.so.10.0'; dlerror: libcusolver.so.10.0: cannot open shared object file: No such file or directory\n",
      "2024-05-23 12:31:56.139971: W tensorflow/stream_executor/platform/default/dso_loader.cc:55] Could not load dynamic library 'libcusparse.so.10.0'; dlerror: libcusparse.so.10.0: cannot open shared object file: No such file or directory\n",
      "2024-05-23 12:31:56.140050: W tensorflow/stream_executor/platform/default/dso_loader.cc:55] Could not load dynamic library 'libcudnn.so.7'; dlerror: libcudnn.so.7: cannot open shared object file: No such file or directory\n",
      "2024-05-23 12:31:56.140077: W tensorflow/core/common_runtime/gpu/gpu_device.cc:1641] Cannot dlopen some GPU libraries. Please make sure the missing libraries mentioned above are installed properly if you would like to use GPU. Follow the guide at https://www.tensorflow.org/install/gpu for how to download and setup the required libraries for your platform.\n",
      "Skipping registering GPU devices...\n",
      "2024-05-23 12:31:56.140389: I tensorflow/core/platform/cpu_feature_guard.cc:142] Your CPU supports instructions that this TensorFlow binary was not compiled to use: AVX2 FMA\n",
      "2024-05-23 12:31:56.148678: I tensorflow/core/platform/profile_utils/cpu_utils.cc:94] CPU Frequency: 2499950000 Hz\n",
      "2024-05-23 12:31:56.150156: I tensorflow/compiler/xla/service/service.cc:168] XLA service 0x4b29720 initialized for platform Host (this does not guarantee that XLA will be used). Devices:\n",
      "2024-05-23 12:31:56.150248: I tensorflow/compiler/xla/service/service.cc:176]   StreamExecutor device (0): Host, Default Version\n",
      "2024-05-23 12:31:56.241671: I tensorflow/stream_executor/cuda/cuda_gpu_executor.cc:983] successful NUMA node read from SysFS had negative value (-1), but there must be at least one NUMA node, so returning NUMA node zero\n",
      "2024-05-23 12:31:56.242325: I tensorflow/compiler/xla/service/service.cc:168] XLA service 0x1504270 initialized for platform CUDA (this does not guarantee that XLA will be used). Devices:\n",
      "2024-05-23 12:31:56.242343: I tensorflow/compiler/xla/service/service.cc:176]   StreamExecutor device (0): NVIDIA GeForce GTX 1650, Compute Capability 7.5\n",
      "2024-05-23 12:31:56.242438: I tensorflow/core/common_runtime/gpu/gpu_device.cc:1159] Device interconnect StreamExecutor with strength 1 edge matrix:\n",
      "2024-05-23 12:31:56.242447: I tensorflow/core/common_runtime/gpu/gpu_device.cc:1165]      \n",
      "WARNING:tensorflow:From /home/ratnakar/anaconda3/envs/mbnet/lib/python3.7/site-packages/tensorflow_core/python/tools/freeze_graph.py:127: checkpoint_exists (from tensorflow.python.training.checkpoint_management) is deprecated and will be removed in a future version.\n",
      "Instructions for updating:\n",
      "Use standard file APIs to check for files with this prefix.\n",
      "W0523 12:31:56.685985 130739157230656 deprecation.py:323] From /home/ratnakar/anaconda3/envs/mbnet/lib/python3.7/site-packages/tensorflow_core/python/tools/freeze_graph.py:127: checkpoint_exists (from tensorflow.python.training.checkpoint_management) is deprecated and will be removed in a future version.\n",
      "Instructions for updating:\n",
      "Use standard file APIs to check for files with this prefix.\n",
      "2024-05-23 12:31:57.127438: I tensorflow/core/common_runtime/gpu/gpu_device.cc:1159] Device interconnect StreamExecutor with strength 1 edge matrix:\n",
      "2024-05-23 12:31:57.127493: I tensorflow/core/common_runtime/gpu/gpu_device.cc:1165]      \n",
      "INFO:tensorflow:Restoring parameters from /home/ratnakar/15k/model.ckpt-15113\n",
      "I0523 12:31:57.129431 130739157230656 saver.py:1284] Restoring parameters from /home/ratnakar/15k/model.ckpt-15113\n",
      "WARNING:tensorflow:From /home/ratnakar/anaconda3/envs/mbnet/lib/python3.7/site-packages/tensorflow_core/python/tools/freeze_graph.py:233: convert_variables_to_constants (from tensorflow.python.framework.graph_util_impl) is deprecated and will be removed in a future version.\n",
      "Instructions for updating:\n",
      "Use `tf.compat.v1.graph_util.convert_variables_to_constants`\n",
      "W0523 12:31:58.275164 130739157230656 deprecation.py:323] From /home/ratnakar/anaconda3/envs/mbnet/lib/python3.7/site-packages/tensorflow_core/python/tools/freeze_graph.py:233: convert_variables_to_constants (from tensorflow.python.framework.graph_util_impl) is deprecated and will be removed in a future version.\n",
      "Instructions for updating:\n",
      "Use `tf.compat.v1.graph_util.convert_variables_to_constants`\n",
      "WARNING:tensorflow:From /home/ratnakar/anaconda3/envs/mbnet/lib/python3.7/site-packages/tensorflow_core/python/framework/graph_util_impl.py:277: extract_sub_graph (from tensorflow.python.framework.graph_util_impl) is deprecated and will be removed in a future version.\n",
      "Instructions for updating:\n",
      "Use `tf.compat.v1.graph_util.extract_sub_graph`\n",
      "W0523 12:31:58.276011 130739157230656 deprecation.py:323] From /home/ratnakar/anaconda3/envs/mbnet/lib/python3.7/site-packages/tensorflow_core/python/framework/graph_util_impl.py:277: extract_sub_graph (from tensorflow.python.framework.graph_util_impl) is deprecated and will be removed in a future version.\n",
      "Instructions for updating:\n",
      "Use `tf.compat.v1.graph_util.extract_sub_graph`\n",
      "INFO:tensorflow:Froze 199 variables.\n",
      "I0523 12:31:58.866688 130739157230656 graph_util_impl.py:334] Froze 199 variables.\n",
      "INFO:tensorflow:Converted 199 variables to const ops.\n",
      "I0523 12:31:58.942657 130739157230656 graph_util_impl.py:394] Converted 199 variables to const ops.\n",
      "2024-05-23 12:31:59.083095: I tensorflow/tools/graph_transforms/transform_graph.cc:317] Applying strip_unused_nodes\n"
     ]
    },
    {
     "data": {
      "text/plain": [
       "CompletedProcess(args=['python', '/home/ratnakar/mobilenet3/models/research/object_detection/export_tflite_ssd_graph.py', '--trained_checkpoint_prefix', '/home/ratnakar/15k/model.ckpt-15113', '--output_directory', '/home/ratnakar/15k/finetune3', '--pipeline_config_path', 'file.config'], returncode=0)"
      ]
     },
     "execution_count": 9,
     "metadata": {},
     "output_type": "execute_result"
    }
   ],
   "source": [
    "import subprocess\n",
    "\n",
    "# Define the command\n",
    "command = [\n",
    "    \"python\", \"/home/ratnakar/mobilenet3/models/research/object_detection/export_tflite_ssd_graph.py\",\n",
    "    \"--trained_checkpoint_prefix\", last_model_checkpoint,\n",
    "    \"--output_directory\", output_directory,\n",
    "    \"--pipeline_config_path\", pipeline_file\n",
    "]\n",
    "\n",
    "# Execute the command\n",
    "subprocess.run(command)\n"
   ]
  },
  {
   "cell_type": "code",
   "execution_count": null,
   "id": "89036e52-2e65-4f9d-b720-a84241835508",
   "metadata": {},
   "outputs": [],
   "source": []
  },
  {
   "cell_type": "code",
   "execution_count": null,
   "id": "1c3de162-0b98-4908-90ea-9289d9ea3a84",
   "metadata": {},
   "outputs": [],
   "source": []
  },
  {
   "cell_type": "code",
   "execution_count": 10,
   "id": "a8ce4efc-6f10-4ab7-b873-8ad2bc1e1b54",
   "metadata": {
    "tags": []
   },
   "outputs": [
    {
     "name": "stdout",
     "output_type": "stream",
     "text": [
      "{'normalized_input_image_tensor': [1, 300, 300, 3]}\n"
     ]
    }
   ],
   "source": [
    "localpb = '/home/ratnakar/15k/finetune3/tflite_graph.pb'\n",
    "tflite_file = '/home/ratnakar/15k/finetune3/detect.tflite'\n",
    "input_arrays = [\"normalized_input_image_tensor\"]\n",
    "output_arrays = \"TFLite_Detection_PostProcess,TFLite_Detection_PostProcess:1,TFLite_Detection_PostProcess:2,TFLite_Detection_PostProcess:3\"\n",
    "\n",
    "input_size = [1, 300, 300, 3]\n",
    "input_shape = {\"normalized_input_image_tensor\" : input_size}\n",
    "\n",
    "print(input_shape)"
   ]
  },
  {
   "cell_type": "code",
   "execution_count": 7,
   "id": "8a513a9d",
   "metadata": {},
   "outputs": [
    {
     "name": "stdout",
     "output_type": "stream",
     "text": [
      "Object `tf.lite.TFLiteConverter.from_frozen_graph` not found.\n"
     ]
    }
   ],
   "source": [
    "tf.lite.TFLiteConverter.from_frozen_graph??"
   ]
  },
  {
   "cell_type": "code",
   "execution_count": 11,
   "id": "e80ad8b4",
   "metadata": {},
   "outputs": [],
   "source": [
    "graph_def_file = '/home/ratnakar/15k/finetune3/tflite_graph.pb'\n",
    "input_arrays = [\"normalized_input_image_tensor\"],\n",
    "output_arrays = [\n",
    "    \"TFLite_Detection_PostProcess\",\n",
    "    \"TFLite_Detection_PostProcess:1\",\n",
    "    \"TFLite_Detection_PostProcess:2\",\n",
    "    \"TFLite_Detection_PostProcess:3\"\n",
    "],\n",
    "input_shape = {\n",
    "    \"normalized_input_image_tensor\": [1, 128, 128, 3]\n",
    "}\n"
   ]
  },
  {
   "cell_type": "code",
   "execution_count": 12,
   "id": "bcabb114",
   "metadata": {},
   "outputs": [
    {
     "name": "stdout",
     "output_type": "stream",
     "text": [
      "{'normalized_input_image_tensor': [1, 300, 300, 3]}\n"
     ]
    }
   ],
   "source": [
    "localpb = '/home/ratnakar/15k/finetune3/tflite_graph.pb'\n",
    "tflite_file = '/home/ratnakar/15k/finetune3/detect.tflite'\n",
    "input_arrays = [\"normalized_input_image_tensor\"]\n",
    "output_arrays = \"TFLite_Detection_PostProcess,TFLite_Detection_PostProcess:1,TFLite_Detection_PostProcess:2,TFLite_Detection_PostProcess:3\"\n",
    "\n",
    "input_shape = {\"normalized_input_image_tensor\" : input_size}\n",
    "\n",
    "print(input_shape)"
   ]
  },
  {
   "cell_type": "code",
   "execution_count": 13,
   "id": "6fa2420b",
   "metadata": {},
   "outputs": [
    {
     "name": "stderr",
     "output_type": "stream",
     "text": [
      "2024-05-23 12:33:29.751825: I tensorflow/stream_executor/platform/default/dso_loader.cc:44] Successfully opened dynamic library libcuda.so.1\n",
      "2024-05-23 12:33:29.766998: I tensorflow/stream_executor/cuda/cuda_gpu_executor.cc:983] successful NUMA node read from SysFS had negative value (-1), but there must be at least one NUMA node, so returning NUMA node zero\n",
      "2024-05-23 12:33:29.768268: I tensorflow/core/common_runtime/gpu/gpu_device.cc:1618] Found device 0 with properties: \n",
      "name: NVIDIA GeForce GTX 1650 major: 7 minor: 5 memoryClockRate(GHz): 1.515\n",
      "pciBusID: 0000:01:00.0\n",
      "2024-05-23 12:33:29.769044: W tensorflow/stream_executor/platform/default/dso_loader.cc:55] Could not load dynamic library 'libcudart.so.10.0'; dlerror: libcudart.so.10.0: cannot open shared object file: No such file or directory\n",
      "2024-05-23 12:33:29.773662: W tensorflow/stream_executor/platform/default/dso_loader.cc:55] Could not load dynamic library 'libcublas.so.10.0'; dlerror: libcublas.so.10.0: cannot open shared object file: No such file or directory\n",
      "2024-05-23 12:33:29.773994: W tensorflow/stream_executor/platform/default/dso_loader.cc:55] Could not load dynamic library 'libcufft.so.10.0'; dlerror: libcufft.so.10.0: cannot open shared object file: No such file or directory\n",
      "2024-05-23 12:33:29.774098: W tensorflow/stream_executor/platform/default/dso_loader.cc:55] Could not load dynamic library 'libcurand.so.10.0'; dlerror: libcurand.so.10.0: cannot open shared object file: No such file or directory\n",
      "2024-05-23 12:33:29.774163: W tensorflow/stream_executor/platform/default/dso_loader.cc:55] Could not load dynamic library 'libcusolver.so.10.0'; dlerror: libcusolver.so.10.0: cannot open shared object file: No such file or directory\n",
      "2024-05-23 12:33:29.774288: W tensorflow/stream_executor/platform/default/dso_loader.cc:55] Could not load dynamic library 'libcusparse.so.10.0'; dlerror: libcusparse.so.10.0: cannot open shared object file: No such file or directory\n",
      "2024-05-23 12:33:29.774559: W tensorflow/stream_executor/platform/default/dso_loader.cc:55] Could not load dynamic library 'libcudnn.so.7'; dlerror: libcudnn.so.7: cannot open shared object file: No such file or directory\n",
      "2024-05-23 12:33:29.774577: W tensorflow/core/common_runtime/gpu/gpu_device.cc:1641] Cannot dlopen some GPU libraries. Please make sure the missing libraries mentioned above are installed properly if you would like to use GPU. Follow the guide at https://www.tensorflow.org/install/gpu for how to download and setup the required libraries for your platform.\n",
      "Skipping registering GPU devices...\n",
      "2024-05-23 12:33:29.775452: I tensorflow/core/platform/cpu_feature_guard.cc:142] Your CPU supports instructions that this TensorFlow binary was not compiled to use: AVX2 FMA\n",
      "2024-05-23 12:33:29.785813: I tensorflow/core/platform/profile_utils/cpu_utils.cc:94] CPU Frequency: 2499950000 Hz\n",
      "2024-05-23 12:33:29.786317: I tensorflow/compiler/xla/service/service.cc:168] XLA service 0x5d3c090 initialized for platform Host (this does not guarantee that XLA will be used). Devices:\n",
      "2024-05-23 12:33:29.786338: I tensorflow/compiler/xla/service/service.cc:176]   StreamExecutor device (0): Host, Default Version\n",
      "2024-05-23 12:33:29.893351: I tensorflow/stream_executor/cuda/cuda_gpu_executor.cc:983] successful NUMA node read from SysFS had negative value (-1), but there must be at least one NUMA node, so returning NUMA node zero\n",
      "2024-05-23 12:33:29.893576: I tensorflow/compiler/xla/service/service.cc:168] XLA service 0x5d33940 initialized for platform CUDA (this does not guarantee that XLA will be used). Devices:\n",
      "2024-05-23 12:33:29.893590: I tensorflow/compiler/xla/service/service.cc:176]   StreamExecutor device (0): NVIDIA GeForce GTX 1650, Compute Capability 7.5\n",
      "2024-05-23 12:33:29.893686: I tensorflow/core/common_runtime/gpu/gpu_device.cc:1159] Device interconnect StreamExecutor with strength 1 edge matrix:\n",
      "2024-05-23 12:33:29.893694: I tensorflow/core/common_runtime/gpu/gpu_device.cc:1165]      \n"
     ]
    }
   ],
   "source": [
    "import tensorflow as tf\n",
    "\n",
    "graph_def_file = '/home/ratnakar/15k/finetune3/tflite_graph.pb'\n",
    "with tf.io.gfile.GFile(graph_def_file, 'rb') as f:\n",
    "    graph_def = tf.compat.v1.GraphDef()\n",
    "    graph_def.ParseFromString(f.read())\n",
    "\n",
    "converter = tf.lite.TFLiteConverter.from_frozen_graph(\n",
    "    graph_def_file='/home/ratnakar/15k/finetune3/tflite_graph.pb',\n",
    "    input_arrays=[\"normalized_input_image_tensor\"],\n",
    "    output_arrays=[\n",
    "        \"TFLite_Detection_PostProcess\",\n",
    "        \"TFLite_Detection_PostProcess:1\",\n",
    "        \"TFLite_Detection_PostProcess:2\",\n",
    "        \"TFLite_Detection_PostProcess:3\"],\n",
    "    input_shapes = {\"normalized_input_image_tensor\": [1, 300,300, 3]}\n",
    ")\n",
    "\n",
    "# Set converter options\n",
    "converter.allow_custom_ops = True\n",
    "\n",
    "# Define input shapes\n",
    "# input_shapes = {\"normalized_input_image_tensor\": [1, 300,300, 3]}  \n",
    "\n",
    "# Convert the model\n",
    "tflite_model = converter.convert()\n",
    "\n",
    "# Save the converted model to a file\n",
    "tflite_file = '/home/ratnakar/15k/finetune3/detect.tflite' \n",
    "with open(tflite_file, 'wb') as f:\n",
    "    f.write(tflite_model)\n"
   ]
  },
  {
   "cell_type": "code",
   "execution_count": null,
   "id": "41bcb337",
   "metadata": {},
   "outputs": [],
   "source": []
  }
 ],
 "metadata": {
  "kernelspec": {
   "display_name": "Python 3 (ipykernel)",
   "language": "python",
   "name": "python3"
  },
  "language_info": {
   "codemirror_mode": {
    "name": "ipython",
    "version": 3
   },
   "file_extension": ".py",
   "mimetype": "text/x-python",
   "name": "python",
   "nbconvert_exporter": "python",
   "pygments_lexer": "ipython3",
   "version": "3.7.16"
  }
 },
 "nbformat": 4,
 "nbformat_minor": 5
}
